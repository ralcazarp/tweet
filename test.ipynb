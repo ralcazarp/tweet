{
 "cells": [
  {
   "cell_type": "markdown",
   "metadata": {},
   "source": [
    "# Muestra de uso\n",
    "A continuación se muestra como se usan los modelos ya entrenados\n",
    "\n",
    "Es **NECESARIO** hacer el import de *process*, ya que ahí se encuentra todo lo necesario"
   ]
  },
  {
   "cell_type": "code",
   "execution_count": 1,
   "metadata": {},
   "outputs": [],
   "source": [
    "from process import *\n",
    "import pandas as pd"
   ]
  },
  {
   "cell_type": "markdown",
   "metadata": {},
   "source": [
    "## Primero se lee alguna fuente de información de tweets"
   ]
  },
  {
   "cell_type": "code",
   "execution_count": 6,
   "metadata": {},
   "outputs": [
    {
     "data": {
      "text/html": [
       "<div>\n",
       "<style scoped>\n",
       "    .dataframe tbody tr th:only-of-type {\n",
       "        vertical-align: middle;\n",
       "    }\n",
       "\n",
       "    .dataframe tbody tr th {\n",
       "        vertical-align: top;\n",
       "    }\n",
       "\n",
       "    .dataframe thead th {\n",
       "        text-align: right;\n",
       "    }\n",
       "</style>\n",
       "<table border=\"1\" class=\"dataframe\">\n",
       "  <thead>\n",
       "    <tr style=\"text-align: right;\">\n",
       "      <th></th>\n",
       "      <th>User</th>\n",
       "      <th>Tweet</th>\n",
       "    </tr>\n",
       "  </thead>\n",
       "  <tbody>\n",
       "    <tr>\n",
       "      <th>0</th>\n",
       "      <td>@florecita3011</td>\n",
       "      <td>@MAI12MA @TELMEXSoluciona @arturoelias @IFT_MX...</td>\n",
       "    </tr>\n",
       "    <tr>\n",
       "      <th>1</th>\n",
       "      <td>@TELMEXSoluciona</td>\n",
       "      <td>@florecita3011 @MAI12MA @arturoelias @IFT_MX @...</td>\n",
       "    </tr>\n",
       "    <tr>\n",
       "      <th>2</th>\n",
       "      <td>@suprafalible</td>\n",
       "      <td>RT @IFT_MX: Todo lo que tú 🫵necesitas saber so...</td>\n",
       "    </tr>\n",
       "    <tr>\n",
       "      <th>3</th>\n",
       "      <td>@mace1877</td>\n",
       "      <td>RT @florecita3011: Adivinen que??? Vamos en el...</td>\n",
       "    </tr>\n",
       "    <tr>\n",
       "      <th>4</th>\n",
       "      <td>@AlexNavarreteMx</td>\n",
       "      <td>RT @IFT_MX: El Comisionado del @IFT_MX , @juar...</td>\n",
       "    </tr>\n",
       "  </tbody>\n",
       "</table>\n",
       "</div>"
      ],
      "text/plain": [
       "               User                                              Tweet\n",
       "0    @florecita3011  @MAI12MA @TELMEXSoluciona @arturoelias @IFT_MX...\n",
       "1  @TELMEXSoluciona  @florecita3011 @MAI12MA @arturoelias @IFT_MX @...\n",
       "2     @suprafalible  RT @IFT_MX: Todo lo que tú 🫵necesitas saber so...\n",
       "3         @mace1877  RT @florecita3011: Adivinen que??? Vamos en el...\n",
       "4  @AlexNavarreteMx  RT @IFT_MX: El Comisionado del @IFT_MX , @juar..."
      ]
     },
     "execution_count": 6,
     "metadata": {},
     "output_type": "execute_result"
    }
   ],
   "source": [
    "test = pd.read_excel(\"../data/test_ift/New tweet from search (51).xlsx\", header=None)\n",
    "test.columns = ['User', 'Tweet', 'Link', 'Date']\n",
    "test = test[['User', 'Tweet']]\n",
    "test.head()"
   ]
  },
  {
   "cell_type": "markdown",
   "metadata": {},
   "source": [
    "**Solo se necesita la función process_tweet**\n",
    "\n",
    "Regresa dos arrays, el primero es el sentimiento relacionado, y el segundo es si es un tweet relacionado a las telecomunicaciones"
   ]
  },
  {
   "cell_type": "code",
   "execution_count": 7,
   "metadata": {},
   "outputs": [
    {
     "data": {
      "text/html": [
       "<div>\n",
       "<style scoped>\n",
       "    .dataframe tbody tr th:only-of-type {\n",
       "        vertical-align: middle;\n",
       "    }\n",
       "\n",
       "    .dataframe tbody tr th {\n",
       "        vertical-align: top;\n",
       "    }\n",
       "\n",
       "    .dataframe thead th {\n",
       "        text-align: right;\n",
       "    }\n",
       "</style>\n",
       "<table border=\"1\" class=\"dataframe\">\n",
       "  <thead>\n",
       "    <tr style=\"text-align: right;\">\n",
       "      <th></th>\n",
       "      <th>User</th>\n",
       "      <th>Tweet</th>\n",
       "      <th>Sentiment</th>\n",
       "      <th>telecom</th>\n",
       "    </tr>\n",
       "  </thead>\n",
       "  <tbody>\n",
       "    <tr>\n",
       "      <th>0</th>\n",
       "      <td>@florecita3011</td>\n",
       "      <td>@MAI12MA @TELMEXSoluciona @arturoelias @IFT_MX...</td>\n",
       "      <td>1</td>\n",
       "      <td>0</td>\n",
       "    </tr>\n",
       "    <tr>\n",
       "      <th>1</th>\n",
       "      <td>@TELMEXSoluciona</td>\n",
       "      <td>@florecita3011 @MAI12MA @arturoelias @IFT_MX @...</td>\n",
       "      <td>1</td>\n",
       "      <td>1</td>\n",
       "    </tr>\n",
       "    <tr>\n",
       "      <th>2</th>\n",
       "      <td>@suprafalible</td>\n",
       "      <td>RT @IFT_MX: Todo lo que tú 🫵necesitas saber so...</td>\n",
       "      <td>1</td>\n",
       "      <td>1</td>\n",
       "    </tr>\n",
       "    <tr>\n",
       "      <th>3</th>\n",
       "      <td>@mace1877</td>\n",
       "      <td>RT @florecita3011: Adivinen que??? Vamos en el...</td>\n",
       "      <td>-1</td>\n",
       "      <td>0</td>\n",
       "    </tr>\n",
       "    <tr>\n",
       "      <th>4</th>\n",
       "      <td>@AlexNavarreteMx</td>\n",
       "      <td>RT @IFT_MX: El Comisionado del @IFT_MX , @juar...</td>\n",
       "      <td>-1</td>\n",
       "      <td>1</td>\n",
       "    </tr>\n",
       "  </tbody>\n",
       "</table>\n",
       "</div>"
      ],
      "text/plain": [
       "               User                                              Tweet  \\\n",
       "0    @florecita3011  @MAI12MA @TELMEXSoluciona @arturoelias @IFT_MX...   \n",
       "1  @TELMEXSoluciona  @florecita3011 @MAI12MA @arturoelias @IFT_MX @...   \n",
       "2     @suprafalible  RT @IFT_MX: Todo lo que tú 🫵necesitas saber so...   \n",
       "3         @mace1877  RT @florecita3011: Adivinen que??? Vamos en el...   \n",
       "4  @AlexNavarreteMx  RT @IFT_MX: El Comisionado del @IFT_MX , @juar...   \n",
       "\n",
       "   Sentiment  telecom  \n",
       "0          1        0  \n",
       "1          1        1  \n",
       "2          1        1  \n",
       "3         -1        0  \n",
       "4         -1        1  "
      ]
     },
     "execution_count": 7,
     "metadata": {},
     "output_type": "execute_result"
    }
   ],
   "source": [
    "resultados = process_tweet(test)\n",
    "test['Sentiment'] = resultados[0]\n",
    "test[\"telecom\"] = resultados[1]\n",
    "test.head()"
   ]
  }
 ],
 "metadata": {
  "kernelspec": {
   "display_name": "base",
   "language": "python",
   "name": "python3"
  },
  "language_info": {
   "codemirror_mode": {
    "name": "ipython",
    "version": 3
   },
   "file_extension": ".py",
   "mimetype": "text/x-python",
   "name": "python",
   "nbconvert_exporter": "python",
   "pygments_lexer": "ipython3",
   "version": "3.11.7"
  }
 },
 "nbformat": 4,
 "nbformat_minor": 2
}
